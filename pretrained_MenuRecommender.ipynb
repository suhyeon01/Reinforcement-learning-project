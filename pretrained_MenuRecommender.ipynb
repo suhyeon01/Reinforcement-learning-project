{
 "cells": [
  {
   "cell_type": "code",
   "execution_count": 2,
   "metadata": {},
   "outputs": [],
   "source": [
    "import numpy as np\n",
    "import pandas as pd\n",
    "import torch\n",
    "import torch.nn as nn\n",
    "import torch.optim as optim\n",
    "from collections import deque\n",
    "import matplotlib.pyplot as plt\n",
    "import random\n",
    "import gym\n",
    "from gym import spaces\n",
    "\n",
    "from sklearn.preprocessing import LabelEncoder"
   ]
  },
  {
   "cell_type": "code",
   "execution_count": 3,
   "metadata": {},
   "outputs": [
    {
     "data": {
      "text/plain": [
       "'EUC-KR'"
      ]
     },
     "execution_count": 3,
     "metadata": {},
     "output_type": "execute_result"
    }
   ],
   "source": [
    "import chardet\n",
    "# 파일의 인코딩 감지\n",
    "with open('./foodData.csv', 'rb') as f:\n",
    "    result = chardet.detect(f.read())\n",
    "encoding = result['encoding']\n",
    "encoding"
   ]
  },
  {
   "cell_type": "code",
   "execution_count": 4,
   "metadata": {},
   "outputs": [
    {
     "data": {
      "text/html": [
       "<div>\n",
       "<style scoped>\n",
       "    .dataframe tbody tr th:only-of-type {\n",
       "        vertical-align: middle;\n",
       "    }\n",
       "\n",
       "    .dataframe tbody tr th {\n",
       "        vertical-align: top;\n",
       "    }\n",
       "\n",
       "    .dataframe thead th {\n",
       "        text-align: right;\n",
       "    }\n",
       "</style>\n",
       "<table border=\"1\" class=\"dataframe\">\n",
       "  <thead>\n",
       "    <tr style=\"text-align: right;\">\n",
       "      <th></th>\n",
       "      <th>응답일시</th>\n",
       "      <th>참여자</th>\n",
       "      <th>오늘 기분을 골라주세요. 1점 최악, 10점 최고(*)</th>\n",
       "      <th>현재의 날씨를 골라주세요.(*)</th>\n",
       "      <th>자신이 느끼는 현재의 온도를 골라주세요. 1점 추움, 10점 더움(*)</th>\n",
       "      <th>시간과 관계없이 현재 자신이 느끼는 식사 시간대를 선택해주세요.(*)</th>\n",
       "      <th>함께 밥을 먹을 인원수를 입력해주세요.(*)</th>\n",
       "      <th>성별을 골라주세요.(*)</th>\n",
       "      <th>나이대를 입력해주세요. (19살 -&gt; 1, 20살 -&gt; 2)(*)</th>\n",
       "      <th>현재의 날씨, 기분, 온도 그리고 인원수를 포함하여 먹고싶거나 먹기로 한 메뉴를 입력해주세요. (띄어쓰기X)(*)</th>\n",
       "      <th>기프티콘 지급을 위한 연락처를 입력해주세요. (필수 X)</th>\n",
       "    </tr>\n",
       "  </thead>\n",
       "  <tbody>\n",
       "    <tr>\n",
       "      <th>0</th>\n",
       "      <td>2024-05-21 15:38:15</td>\n",
       "      <td>1</td>\n",
       "      <td>4</td>\n",
       "      <td>맑음</td>\n",
       "      <td>10</td>\n",
       "      <td>저녁(석식)</td>\n",
       "      <td>2명</td>\n",
       "      <td>남자</td>\n",
       "      <td>2</td>\n",
       "      <td>제육볶음</td>\n",
       "      <td>1.040628e+09</td>\n",
       "    </tr>\n",
       "    <tr>\n",
       "      <th>1</th>\n",
       "      <td>2024-05-21 15:38:51</td>\n",
       "      <td>2</td>\n",
       "      <td>8</td>\n",
       "      <td>맑음</td>\n",
       "      <td>10</td>\n",
       "      <td>점심(중식)</td>\n",
       "      <td>4명</td>\n",
       "      <td>여자</td>\n",
       "      <td>2</td>\n",
       "      <td>마라탕</td>\n",
       "      <td>1.032130e+09</td>\n",
       "    </tr>\n",
       "    <tr>\n",
       "      <th>2</th>\n",
       "      <td>2024-05-21 15:41:52</td>\n",
       "      <td>3</td>\n",
       "      <td>6</td>\n",
       "      <td>맑음</td>\n",
       "      <td>5</td>\n",
       "      <td>점심(중식)</td>\n",
       "      <td>1명</td>\n",
       "      <td>여자</td>\n",
       "      <td>2</td>\n",
       "      <td>떡볶이</td>\n",
       "      <td>1.075212e+09</td>\n",
       "    </tr>\n",
       "    <tr>\n",
       "      <th>3</th>\n",
       "      <td>2024-05-21 15:42:51</td>\n",
       "      <td>4</td>\n",
       "      <td>3</td>\n",
       "      <td>맑음</td>\n",
       "      <td>3</td>\n",
       "      <td>저녁(석식)</td>\n",
       "      <td>2명</td>\n",
       "      <td>여자</td>\n",
       "      <td>2</td>\n",
       "      <td>닭볶음탕</td>\n",
       "      <td>1.050636e+09</td>\n",
       "    </tr>\n",
       "    <tr>\n",
       "      <th>4</th>\n",
       "      <td>2024-05-21 15:44:22</td>\n",
       "      <td>5</td>\n",
       "      <td>10</td>\n",
       "      <td>맑음</td>\n",
       "      <td>5</td>\n",
       "      <td>점심(중식)</td>\n",
       "      <td>4명</td>\n",
       "      <td>여자</td>\n",
       "      <td>5</td>\n",
       "      <td>스파게티</td>\n",
       "      <td>1.035316e+09</td>\n",
       "    </tr>\n",
       "    <tr>\n",
       "      <th>...</th>\n",
       "      <td>...</td>\n",
       "      <td>...</td>\n",
       "      <td>...</td>\n",
       "      <td>...</td>\n",
       "      <td>...</td>\n",
       "      <td>...</td>\n",
       "      <td>...</td>\n",
       "      <td>...</td>\n",
       "      <td>...</td>\n",
       "      <td>...</td>\n",
       "      <td>...</td>\n",
       "    </tr>\n",
       "    <tr>\n",
       "      <th>238</th>\n",
       "      <td>2024-06-04 23:16:24</td>\n",
       "      <td>208</td>\n",
       "      <td>8</td>\n",
       "      <td>맑음</td>\n",
       "      <td>3</td>\n",
       "      <td>저녁(석식)</td>\n",
       "      <td>3명</td>\n",
       "      <td>여자</td>\n",
       "      <td>2</td>\n",
       "      <td>족발</td>\n",
       "      <td>1.043776e+09</td>\n",
       "    </tr>\n",
       "    <tr>\n",
       "      <th>239</th>\n",
       "      <td>2024-06-04 23:27:23</td>\n",
       "      <td>209</td>\n",
       "      <td>6</td>\n",
       "      <td>맑음</td>\n",
       "      <td>7</td>\n",
       "      <td>점심(중식)</td>\n",
       "      <td>1명</td>\n",
       "      <td>여자</td>\n",
       "      <td>2</td>\n",
       "      <td>치킨</td>\n",
       "      <td>1.043776e+09</td>\n",
       "    </tr>\n",
       "    <tr>\n",
       "      <th>240</th>\n",
       "      <td>2024-06-04 23:27:50</td>\n",
       "      <td>210</td>\n",
       "      <td>6</td>\n",
       "      <td>맑음</td>\n",
       "      <td>5</td>\n",
       "      <td>저녁(석식)</td>\n",
       "      <td>1명</td>\n",
       "      <td>여자</td>\n",
       "      <td>2</td>\n",
       "      <td>김치볶음밥</td>\n",
       "      <td>1.043776e+09</td>\n",
       "    </tr>\n",
       "    <tr>\n",
       "      <th>241</th>\n",
       "      <td>2024-06-05 02:42:20</td>\n",
       "      <td>211</td>\n",
       "      <td>2</td>\n",
       "      <td>맑음</td>\n",
       "      <td>4</td>\n",
       "      <td>야식</td>\n",
       "      <td>5명 이상</td>\n",
       "      <td>남자</td>\n",
       "      <td>2</td>\n",
       "      <td>라면</td>\n",
       "      <td>1.055484e+09</td>\n",
       "    </tr>\n",
       "    <tr>\n",
       "      <th>242</th>\n",
       "      <td>2024-06-05 09:28:57</td>\n",
       "      <td>212</td>\n",
       "      <td>1</td>\n",
       "      <td>맑음</td>\n",
       "      <td>8</td>\n",
       "      <td>아침(조식)</td>\n",
       "      <td>1명</td>\n",
       "      <td>여자</td>\n",
       "      <td>2</td>\n",
       "      <td>삼각김밥</td>\n",
       "      <td>1.043776e+09</td>\n",
       "    </tr>\n",
       "  </tbody>\n",
       "</table>\n",
       "<p>243 rows × 11 columns</p>\n",
       "</div>"
      ],
      "text/plain": [
       "                    응답일시  참여자  오늘 기분을 골라주세요. 1점 최악, 10점 최고(*)  \\\n",
       "0    2024-05-21 15:38:15    1                               4   \n",
       "1    2024-05-21 15:38:51    2                               8   \n",
       "2    2024-05-21 15:41:52    3                               6   \n",
       "3    2024-05-21 15:42:51    4                               3   \n",
       "4    2024-05-21 15:44:22    5                              10   \n",
       "..                   ...  ...                             ...   \n",
       "238  2024-06-04 23:16:24  208                               8   \n",
       "239  2024-06-04 23:27:23  209                               6   \n",
       "240  2024-06-04 23:27:50  210                               6   \n",
       "241  2024-06-05 02:42:20  211                               2   \n",
       "242  2024-06-05 09:28:57  212                               1   \n",
       "\n",
       "    현재의 날씨를 골라주세요.(*)  자신이 느끼는 현재의 온도를 골라주세요. 1점 추움, 10점 더움(*)  \\\n",
       "0                  맑음                                       10   \n",
       "1                  맑음                                       10   \n",
       "2                  맑음                                        5   \n",
       "3                  맑음                                        3   \n",
       "4                  맑음                                        5   \n",
       "..                ...                                      ...   \n",
       "238                맑음                                        3   \n",
       "239                맑음                                        7   \n",
       "240                맑음                                        5   \n",
       "241                맑음                                        4   \n",
       "242                맑음                                        8   \n",
       "\n",
       "    시간과 관계없이 현재 자신이 느끼는 식사 시간대를 선택해주세요.(*) 함께 밥을 먹을 인원수를 입력해주세요.(*)  \\\n",
       "0                                   저녁(석식)                       2명   \n",
       "1                                   점심(중식)                       4명   \n",
       "2                                   점심(중식)                       1명   \n",
       "3                                   저녁(석식)                       2명   \n",
       "4                                   점심(중식)                       4명   \n",
       "..                                     ...                      ...   \n",
       "238                                 저녁(석식)                       3명   \n",
       "239                                 점심(중식)                       1명   \n",
       "240                                 저녁(석식)                       1명   \n",
       "241                                     야식                    5명 이상   \n",
       "242                                 아침(조식)                       1명   \n",
       "\n",
       "    성별을 골라주세요.(*)  나이대를 입력해주세요. (19살 -> 1, 20살 -> 2)(*)  \\\n",
       "0              남자                                     2   \n",
       "1              여자                                     2   \n",
       "2              여자                                     2   \n",
       "3              여자                                     2   \n",
       "4              여자                                     5   \n",
       "..            ...                                   ...   \n",
       "238            여자                                     2   \n",
       "239            여자                                     2   \n",
       "240            여자                                     2   \n",
       "241            남자                                     2   \n",
       "242            여자                                     2   \n",
       "\n",
       "    현재의 날씨, 기분, 온도 그리고 인원수를 포함하여 먹고싶거나 먹기로 한 메뉴를 입력해주세요. (띄어쓰기X)(*)  \\\n",
       "0                                                 제육볶음                \n",
       "1                                                  마라탕                \n",
       "2                                                  떡볶이                \n",
       "3                                                 닭볶음탕                \n",
       "4                                                 스파게티                \n",
       "..                                                 ...                \n",
       "238                                                 족발                \n",
       "239                                                 치킨                \n",
       "240                                              김치볶음밥                \n",
       "241                                                 라면                \n",
       "242                                               삼각김밥                \n",
       "\n",
       "     기프티콘 지급을 위한 연락처를 입력해주세요. (필수 X)  \n",
       "0                       1.040628e+09  \n",
       "1                       1.032130e+09  \n",
       "2                       1.075212e+09  \n",
       "3                       1.050636e+09  \n",
       "4                       1.035316e+09  \n",
       "..                               ...  \n",
       "238                     1.043776e+09  \n",
       "239                     1.043776e+09  \n",
       "240                     1.043776e+09  \n",
       "241                     1.055484e+09  \n",
       "242                     1.043776e+09  \n",
       "\n",
       "[243 rows x 11 columns]"
      ]
     },
     "execution_count": 4,
     "metadata": {},
     "output_type": "execute_result"
    }
   ],
   "source": [
    "data = pd.read_csv(\"./foodData.csv\", encoding='EUC-KR')\n",
    "data"
   ]
  },
  {
   "cell_type": "code",
   "execution_count": 5,
   "metadata": {},
   "outputs": [
    {
     "data": {
      "text/plain": [
       "Index(['응답일시', '참여자', '오늘 기분을 골라주세요. 1점 최악, 10점 최고(*)', '현재의 날씨를 골라주세요.(*)',\n",
       "       '자신이 느끼는 현재의 온도를 골라주세요. 1점 추움, 10점 더움(*)',\n",
       "       '시간과 관계없이 현재 자신이 느끼는 식사 시간대를 선택해주세요.(*)', '함께 밥을 먹을 인원수를 입력해주세요.(*)',\n",
       "       '성별을 골라주세요.(*)', '나이대를 입력해주세요. (19살 -> 1, 20살 -> 2)(*)',\n",
       "       '현재의 날씨, 기분, 온도 그리고 인원수를 포함하여 먹고싶거나 먹기로 한 메뉴를 입력해주세요. (띄어쓰기X)(*)',\n",
       "       '기프티콘 지급을 위한 연락처를 입력해주세요. (필수 X)'],\n",
       "      dtype='object')"
      ]
     },
     "execution_count": 5,
     "metadata": {},
     "output_type": "execute_result"
    }
   ],
   "source": [
    "data.columns"
   ]
  },
  {
   "cell_type": "code",
   "execution_count": 6,
   "metadata": {},
   "outputs": [
    {
     "data": {
      "text/html": [
       "<div>\n",
       "<style scoped>\n",
       "    .dataframe tbody tr th:only-of-type {\n",
       "        vertical-align: middle;\n",
       "    }\n",
       "\n",
       "    .dataframe tbody tr th {\n",
       "        vertical-align: top;\n",
       "    }\n",
       "\n",
       "    .dataframe thead th {\n",
       "        text-align: right;\n",
       "    }\n",
       "</style>\n",
       "<table border=\"1\" class=\"dataframe\">\n",
       "  <thead>\n",
       "    <tr style=\"text-align: right;\">\n",
       "      <th></th>\n",
       "      <th>오늘 기분을 골라주세요. 1점 최악, 10점 최고(*)</th>\n",
       "      <th>현재의 날씨를 골라주세요.(*)</th>\n",
       "      <th>자신이 느끼는 현재의 온도를 골라주세요. 1점 추움, 10점 더움(*)</th>\n",
       "      <th>시간과 관계없이 현재 자신이 느끼는 식사 시간대를 선택해주세요.(*)</th>\n",
       "      <th>함께 밥을 먹을 인원수를 입력해주세요.(*)</th>\n",
       "      <th>성별을 골라주세요.(*)</th>\n",
       "      <th>현재의 날씨, 기분, 온도 그리고 인원수를 포함하여 먹고싶거나 먹기로 한 메뉴를 입력해주세요. (띄어쓰기X)(*)</th>\n",
       "    </tr>\n",
       "  </thead>\n",
       "  <tbody>\n",
       "    <tr>\n",
       "      <th>0</th>\n",
       "      <td>4</td>\n",
       "      <td>맑음</td>\n",
       "      <td>10</td>\n",
       "      <td>저녁(석식)</td>\n",
       "      <td>2명</td>\n",
       "      <td>남자</td>\n",
       "      <td>제육볶음</td>\n",
       "    </tr>\n",
       "    <tr>\n",
       "      <th>1</th>\n",
       "      <td>8</td>\n",
       "      <td>맑음</td>\n",
       "      <td>10</td>\n",
       "      <td>점심(중식)</td>\n",
       "      <td>4명</td>\n",
       "      <td>여자</td>\n",
       "      <td>마라탕</td>\n",
       "    </tr>\n",
       "    <tr>\n",
       "      <th>2</th>\n",
       "      <td>6</td>\n",
       "      <td>맑음</td>\n",
       "      <td>5</td>\n",
       "      <td>점심(중식)</td>\n",
       "      <td>1명</td>\n",
       "      <td>여자</td>\n",
       "      <td>떡볶이</td>\n",
       "    </tr>\n",
       "    <tr>\n",
       "      <th>3</th>\n",
       "      <td>3</td>\n",
       "      <td>맑음</td>\n",
       "      <td>3</td>\n",
       "      <td>저녁(석식)</td>\n",
       "      <td>2명</td>\n",
       "      <td>여자</td>\n",
       "      <td>닭볶음탕</td>\n",
       "    </tr>\n",
       "    <tr>\n",
       "      <th>4</th>\n",
       "      <td>10</td>\n",
       "      <td>맑음</td>\n",
       "      <td>5</td>\n",
       "      <td>점심(중식)</td>\n",
       "      <td>4명</td>\n",
       "      <td>여자</td>\n",
       "      <td>스파게티</td>\n",
       "    </tr>\n",
       "    <tr>\n",
       "      <th>...</th>\n",
       "      <td>...</td>\n",
       "      <td>...</td>\n",
       "      <td>...</td>\n",
       "      <td>...</td>\n",
       "      <td>...</td>\n",
       "      <td>...</td>\n",
       "      <td>...</td>\n",
       "    </tr>\n",
       "    <tr>\n",
       "      <th>238</th>\n",
       "      <td>8</td>\n",
       "      <td>맑음</td>\n",
       "      <td>3</td>\n",
       "      <td>저녁(석식)</td>\n",
       "      <td>3명</td>\n",
       "      <td>여자</td>\n",
       "      <td>족발</td>\n",
       "    </tr>\n",
       "    <tr>\n",
       "      <th>239</th>\n",
       "      <td>6</td>\n",
       "      <td>맑음</td>\n",
       "      <td>7</td>\n",
       "      <td>점심(중식)</td>\n",
       "      <td>1명</td>\n",
       "      <td>여자</td>\n",
       "      <td>치킨</td>\n",
       "    </tr>\n",
       "    <tr>\n",
       "      <th>240</th>\n",
       "      <td>6</td>\n",
       "      <td>맑음</td>\n",
       "      <td>5</td>\n",
       "      <td>저녁(석식)</td>\n",
       "      <td>1명</td>\n",
       "      <td>여자</td>\n",
       "      <td>김치볶음밥</td>\n",
       "    </tr>\n",
       "    <tr>\n",
       "      <th>241</th>\n",
       "      <td>2</td>\n",
       "      <td>맑음</td>\n",
       "      <td>4</td>\n",
       "      <td>야식</td>\n",
       "      <td>5명 이상</td>\n",
       "      <td>남자</td>\n",
       "      <td>라면</td>\n",
       "    </tr>\n",
       "    <tr>\n",
       "      <th>242</th>\n",
       "      <td>1</td>\n",
       "      <td>맑음</td>\n",
       "      <td>8</td>\n",
       "      <td>아침(조식)</td>\n",
       "      <td>1명</td>\n",
       "      <td>여자</td>\n",
       "      <td>삼각김밥</td>\n",
       "    </tr>\n",
       "  </tbody>\n",
       "</table>\n",
       "<p>243 rows × 7 columns</p>\n",
       "</div>"
      ],
      "text/plain": [
       "     오늘 기분을 골라주세요. 1점 최악, 10점 최고(*) 현재의 날씨를 골라주세요.(*)  \\\n",
       "0                                 4                맑음   \n",
       "1                                 8                맑음   \n",
       "2                                 6                맑음   \n",
       "3                                 3                맑음   \n",
       "4                                10                맑음   \n",
       "..                              ...               ...   \n",
       "238                               8                맑음   \n",
       "239                               6                맑음   \n",
       "240                               6                맑음   \n",
       "241                               2                맑음   \n",
       "242                               1                맑음   \n",
       "\n",
       "     자신이 느끼는 현재의 온도를 골라주세요. 1점 추움, 10점 더움(*)  \\\n",
       "0                                         10   \n",
       "1                                         10   \n",
       "2                                          5   \n",
       "3                                          3   \n",
       "4                                          5   \n",
       "..                                       ...   \n",
       "238                                        3   \n",
       "239                                        7   \n",
       "240                                        5   \n",
       "241                                        4   \n",
       "242                                        8   \n",
       "\n",
       "    시간과 관계없이 현재 자신이 느끼는 식사 시간대를 선택해주세요.(*) 함께 밥을 먹을 인원수를 입력해주세요.(*)  \\\n",
       "0                                   저녁(석식)                       2명   \n",
       "1                                   점심(중식)                       4명   \n",
       "2                                   점심(중식)                       1명   \n",
       "3                                   저녁(석식)                       2명   \n",
       "4                                   점심(중식)                       4명   \n",
       "..                                     ...                      ...   \n",
       "238                                 저녁(석식)                       3명   \n",
       "239                                 점심(중식)                       1명   \n",
       "240                                 저녁(석식)                       1명   \n",
       "241                                     야식                    5명 이상   \n",
       "242                                 아침(조식)                       1명   \n",
       "\n",
       "    성별을 골라주세요.(*)  \\\n",
       "0              남자   \n",
       "1              여자   \n",
       "2              여자   \n",
       "3              여자   \n",
       "4              여자   \n",
       "..            ...   \n",
       "238            여자   \n",
       "239            여자   \n",
       "240            여자   \n",
       "241            남자   \n",
       "242            여자   \n",
       "\n",
       "    현재의 날씨, 기분, 온도 그리고 인원수를 포함하여 먹고싶거나 먹기로 한 메뉴를 입력해주세요. (띄어쓰기X)(*)  \n",
       "0                                                 제육볶음               \n",
       "1                                                  마라탕               \n",
       "2                                                  떡볶이               \n",
       "3                                                 닭볶음탕               \n",
       "4                                                 스파게티               \n",
       "..                                                 ...               \n",
       "238                                                 족발               \n",
       "239                                                 치킨               \n",
       "240                                              김치볶음밥               \n",
       "241                                                 라면               \n",
       "242                                               삼각김밥               \n",
       "\n",
       "[243 rows x 7 columns]"
      ]
     },
     "execution_count": 6,
     "metadata": {},
     "output_type": "execute_result"
    }
   ],
   "source": [
    "del data['응답일시']\n",
    "del data['참여자']\n",
    "del data['나이대를 입력해주세요. (19살 -> 1, 20살 -> 2)(*)']\n",
    "del data['기프티콘 지급을 위한 연락처를 입력해주세요. (필수 X)']\n",
    "data"
   ]
  },
  {
   "cell_type": "code",
   "execution_count": 7,
   "metadata": {},
   "outputs": [
    {
     "data": {
      "text/plain": [
       "array(['제육볶음', '마라탕', '떡볶이', '닭볶음탕', '스파게티', '항정살덮밥', '족발', '돈가스', '삼겹살',\n",
       "       '파스타', '하와이안피자', '크림파스타', '피자', '김치찌개', '불고기피자', '회', '덮밥', '타코야끼',\n",
       "       '닭강정', '야끼소바', '초밥', '짜장면', '고구마피자', '제육덮밥', '치킨', '자장면', '소곱창',\n",
       "       '바나나 한개', '밥버거', '냉면', '고기', '낙곱새', '고등어회', '봉구스밥버거', '닭발', '닭갈비',\n",
       "       '페퍼로니피자', '김치전', '1명 닭꼬치', '순두부찌개', '청국장', '돼지고기김치찜', '닭우동', '사케동',\n",
       "       '무뼈닭발', '간장치킨', '요거트아이스크림', '분짜', '샌드위치', '소고기무국', '돼지갈비', '짜파게티',\n",
       "       '곱창', '양꼬치', '라면', '열무국수', '닭꼬치', '양송이수프', '소고기덮밥', '해장국', '순대국밥',\n",
       "       '선지해장국', '소바', '부대찌개', '스테이크', '새우초밥', '비빔국수', '불닭게티', '된장찌개',\n",
       "       '고구마치즈돈가스', '투움바파스타', '양념치킨', '대창', '솥밥', '연어회', '파전', '육회', '칼국수',\n",
       "       '전', '로제마라샹궈', '두부김치', '강된장보리밥', '백반', '바게트', '막국수', '포케',\n",
       "       '치킨, 고기, 막걸리, 파전, 샐러드', '연어초밥', '연어덮밥', '멘보샤', '콩나물국밥육개장', '추어탕',\n",
       "       '허니콤보', '설렁탕', '쌀국수', '국밥', '로제떡볶이', '마라떡볶이', '돼지국밥', '화채', '갈비탕',\n",
       "       '씨리얼', '불고기백반', '회덮밥', '치즈돈까스', '쫄면', '햄버거', '마제소바', '쭈꾸미볶음',\n",
       "       '닭똥집튀김', '냉소바', '순대국', '직화고기', '유부초밥', '김치볶음밥', '삼각김밥'],\n",
       "      dtype=object)"
      ]
     },
     "execution_count": 7,
     "metadata": {},
     "output_type": "execute_result"
    }
   ],
   "source": [
    "menu_list = data['현재의 날씨, 기분, 온도 그리고 인원수를 포함하여 먹고싶거나 먹기로 한 메뉴를 입력해주세요. (띄어쓰기X)(*)'].unique()\n",
    "menu_list"
   ]
  },
  {
   "cell_type": "code",
   "execution_count": 8,
   "metadata": {},
   "outputs": [
    {
     "data": {
      "text/plain": [
       "Index(['feeling', 'weather', 'temp', 'time', 'num_people', 'gender', 'menu'], dtype='object')"
      ]
     },
     "execution_count": 8,
     "metadata": {},
     "output_type": "execute_result"
    }
   ],
   "source": [
    "data.columns = ['feeling','weather','temp','time','num_people','gender','menu']\n",
    "data.columns"
   ]
  },
  {
   "cell_type": "code",
   "execution_count": 9,
   "metadata": {},
   "outputs": [
    {
     "data": {
      "text/html": [
       "<div>\n",
       "<style scoped>\n",
       "    .dataframe tbody tr th:only-of-type {\n",
       "        vertical-align: middle;\n",
       "    }\n",
       "\n",
       "    .dataframe tbody tr th {\n",
       "        vertical-align: top;\n",
       "    }\n",
       "\n",
       "    .dataframe thead th {\n",
       "        text-align: right;\n",
       "    }\n",
       "</style>\n",
       "<table border=\"1\" class=\"dataframe\">\n",
       "  <thead>\n",
       "    <tr style=\"text-align: right;\">\n",
       "      <th></th>\n",
       "      <th>feeling</th>\n",
       "      <th>weather</th>\n",
       "      <th>temp</th>\n",
       "      <th>time</th>\n",
       "      <th>num_people</th>\n",
       "      <th>gender</th>\n",
       "      <th>menu</th>\n",
       "    </tr>\n",
       "  </thead>\n",
       "  <tbody>\n",
       "    <tr>\n",
       "      <th>0</th>\n",
       "      <td>4</td>\n",
       "      <td>맑음</td>\n",
       "      <td>10</td>\n",
       "      <td>저녁(석식)</td>\n",
       "      <td>2명</td>\n",
       "      <td>남자</td>\n",
       "      <td>제육볶음</td>\n",
       "    </tr>\n",
       "    <tr>\n",
       "      <th>1</th>\n",
       "      <td>8</td>\n",
       "      <td>맑음</td>\n",
       "      <td>10</td>\n",
       "      <td>점심(중식)</td>\n",
       "      <td>4명</td>\n",
       "      <td>여자</td>\n",
       "      <td>마라탕</td>\n",
       "    </tr>\n",
       "    <tr>\n",
       "      <th>2</th>\n",
       "      <td>6</td>\n",
       "      <td>맑음</td>\n",
       "      <td>5</td>\n",
       "      <td>점심(중식)</td>\n",
       "      <td>1명</td>\n",
       "      <td>여자</td>\n",
       "      <td>떡볶이</td>\n",
       "    </tr>\n",
       "    <tr>\n",
       "      <th>3</th>\n",
       "      <td>3</td>\n",
       "      <td>맑음</td>\n",
       "      <td>3</td>\n",
       "      <td>저녁(석식)</td>\n",
       "      <td>2명</td>\n",
       "      <td>여자</td>\n",
       "      <td>닭볶음탕</td>\n",
       "    </tr>\n",
       "    <tr>\n",
       "      <th>4</th>\n",
       "      <td>10</td>\n",
       "      <td>맑음</td>\n",
       "      <td>5</td>\n",
       "      <td>점심(중식)</td>\n",
       "      <td>4명</td>\n",
       "      <td>여자</td>\n",
       "      <td>스파게티</td>\n",
       "    </tr>\n",
       "    <tr>\n",
       "      <th>...</th>\n",
       "      <td>...</td>\n",
       "      <td>...</td>\n",
       "      <td>...</td>\n",
       "      <td>...</td>\n",
       "      <td>...</td>\n",
       "      <td>...</td>\n",
       "      <td>...</td>\n",
       "    </tr>\n",
       "    <tr>\n",
       "      <th>238</th>\n",
       "      <td>8</td>\n",
       "      <td>맑음</td>\n",
       "      <td>3</td>\n",
       "      <td>저녁(석식)</td>\n",
       "      <td>3명</td>\n",
       "      <td>여자</td>\n",
       "      <td>족발</td>\n",
       "    </tr>\n",
       "    <tr>\n",
       "      <th>239</th>\n",
       "      <td>6</td>\n",
       "      <td>맑음</td>\n",
       "      <td>7</td>\n",
       "      <td>점심(중식)</td>\n",
       "      <td>1명</td>\n",
       "      <td>여자</td>\n",
       "      <td>치킨</td>\n",
       "    </tr>\n",
       "    <tr>\n",
       "      <th>240</th>\n",
       "      <td>6</td>\n",
       "      <td>맑음</td>\n",
       "      <td>5</td>\n",
       "      <td>저녁(석식)</td>\n",
       "      <td>1명</td>\n",
       "      <td>여자</td>\n",
       "      <td>김치볶음밥</td>\n",
       "    </tr>\n",
       "    <tr>\n",
       "      <th>241</th>\n",
       "      <td>2</td>\n",
       "      <td>맑음</td>\n",
       "      <td>4</td>\n",
       "      <td>야식</td>\n",
       "      <td>5명 이상</td>\n",
       "      <td>남자</td>\n",
       "      <td>라면</td>\n",
       "    </tr>\n",
       "    <tr>\n",
       "      <th>242</th>\n",
       "      <td>1</td>\n",
       "      <td>맑음</td>\n",
       "      <td>8</td>\n",
       "      <td>아침(조식)</td>\n",
       "      <td>1명</td>\n",
       "      <td>여자</td>\n",
       "      <td>삼각김밥</td>\n",
       "    </tr>\n",
       "  </tbody>\n",
       "</table>\n",
       "<p>243 rows × 7 columns</p>\n",
       "</div>"
      ],
      "text/plain": [
       "     feeling weather  temp    time num_people gender   menu\n",
       "0          4      맑음    10  저녁(석식)         2명     남자   제육볶음\n",
       "1          8      맑음    10  점심(중식)         4명     여자    마라탕\n",
       "2          6      맑음     5  점심(중식)         1명     여자    떡볶이\n",
       "3          3      맑음     3  저녁(석식)         2명     여자   닭볶음탕\n",
       "4         10      맑음     5  점심(중식)         4명     여자   스파게티\n",
       "..       ...     ...   ...     ...        ...    ...    ...\n",
       "238        8      맑음     3  저녁(석식)         3명     여자     족발\n",
       "239        6      맑음     7  점심(중식)         1명     여자     치킨\n",
       "240        6      맑음     5  저녁(석식)         1명     여자  김치볶음밥\n",
       "241        2      맑음     4      야식      5명 이상     남자     라면\n",
       "242        1      맑음     8  아침(조식)         1명     여자   삼각김밥\n",
       "\n",
       "[243 rows x 7 columns]"
      ]
     },
     "execution_count": 9,
     "metadata": {},
     "output_type": "execute_result"
    }
   ],
   "source": [
    "data"
   ]
  },
  {
   "cell_type": "code",
   "execution_count": 10,
   "metadata": {},
   "outputs": [],
   "source": [
    "menu_list = data['menu']"
   ]
  },
  {
   "cell_type": "code",
   "execution_count": 11,
   "metadata": {},
   "outputs": [
    {
     "name": "stdout",
     "output_type": "stream",
     "text": [
      "   feeling  weather  temp  time  num_people  gender  menu\n",
      "0        4        3    10     2           2       0    85\n",
      "1        8        3    10     3           4       1    36\n",
      "2        6        3     5     3           1       1    31\n",
      "3        3        3     3     2           2       1    21\n",
      "4       10        3     5     3           4       1    68\n"
     ]
    },
    {
     "name": "stderr",
     "output_type": "stream",
     "text": [
      "<>:7: SyntaxWarning: invalid escape sequence '\\d'\n",
      "<>:7: SyntaxWarning: invalid escape sequence '\\d'\n",
      "C:\\Users\\gsuhy\\AppData\\Local\\Temp\\ipykernel_22476\\138679662.py:7: SyntaxWarning: invalid escape sequence '\\d'\n",
      "  data['num_people'] = data['num_people'].str.extract('(\\d+)').astype(int)\n"
     ]
    }
   ],
   "source": [
    "label_encoder = LabelEncoder()\n",
    "\n",
    "# 각 범주형 컬럼에 Label Encoding 적용\n",
    "categorical_columns = ['weather', 'time', 'gender', 'menu']  # 범주형 컬럼 목록\n",
    "for column in categorical_columns:\n",
    "    data[column] = label_encoder.fit_transform(data[column])\n",
    "data['num_people'] = data['num_people'].str.extract('(\\d+)').astype(int)\n",
    "# 변환된 데이터 확인\n",
    "print(data.head())"
   ]
  },
  {
   "cell_type": "code",
   "execution_count": 12,
   "metadata": {},
   "outputs": [
    {
     "name": "stdout",
     "output_type": "stream",
     "text": [
      "메뉴 이름과 매핑된 정수:\n",
      "{'1명 닭꼬치': np.int64(0), '간장치킨': np.int64(1), '갈비탕': np.int64(2), '강된장보리밥': np.int64(3), '고구마치즈돈가스': np.int64(4), '고구마피자': np.int64(5), '고기': np.int64(6), '고등어회': np.int64(7), '곱창': np.int64(8), '국밥': np.int64(9), '김치볶음밥': np.int64(10), '김치전': np.int64(11), '김치찌개': np.int64(12), '낙곱새': np.int64(13), '냉면': np.int64(14), '냉소바': np.int64(15), '닭갈비': np.int64(16), '닭강정': np.int64(17), '닭꼬치': np.int64(18), '닭똥집튀김': np.int64(19), '닭발': np.int64(20), '닭볶음탕': np.int64(21), '닭우동': np.int64(22), '대창': np.int64(23), '덮밥': np.int64(24), '돈가스': np.int64(25), '돼지갈비': np.int64(26), '돼지고기김치찜': np.int64(27), '돼지국밥': np.int64(28), '된장찌개': np.int64(29), '두부김치': np.int64(30), '떡볶이': np.int64(31), '라면': np.int64(32), '로제떡볶이': np.int64(33), '로제마라샹궈': np.int64(34), '마라떡볶이': np.int64(35), '마라탕': np.int64(36), '마제소바': np.int64(37), '막국수': np.int64(38), '멘보샤': np.int64(39), '무뼈닭발': np.int64(40), '바게트': np.int64(41), '바나나 한개': np.int64(42), '밥버거': np.int64(43), '백반': np.int64(44), '봉구스밥버거': np.int64(45), '부대찌개': np.int64(46), '분짜': np.int64(47), '불고기백반': np.int64(48), '불고기피자': np.int64(49), '불닭게티': np.int64(50), '비빔국수': np.int64(51), '사케동': np.int64(52), '삼각김밥': np.int64(53), '삼겹살': np.int64(54), '새우초밥': np.int64(55), '샌드위치': np.int64(56), '선지해장국': np.int64(57), '설렁탕': np.int64(58), '소고기덮밥': np.int64(59), '소고기무국': np.int64(60), '소곱창': np.int64(61), '소바': np.int64(62), '솥밥': np.int64(63), '순대국': np.int64(64), '순대국밥': np.int64(65), '순두부찌개': np.int64(66), '스테이크': np.int64(67), '스파게티': np.int64(68), '쌀국수': np.int64(69), '씨리얼': np.int64(70), '야끼소바': np.int64(71), '양꼬치': np.int64(72), '양념치킨': np.int64(73), '양송이수프': np.int64(74), '연어덮밥': np.int64(75), '연어초밥': np.int64(76), '연어회': np.int64(77), '열무국수': np.int64(78), '요거트아이스크림': np.int64(79), '유부초밥': np.int64(80), '육회': np.int64(81), '자장면': np.int64(82), '전': np.int64(83), '제육덮밥': np.int64(84), '제육볶음': np.int64(85), '족발': np.int64(86), '직화고기': np.int64(87), '짜장면': np.int64(88), '짜파게티': np.int64(89), '쫄면': np.int64(90), '쭈꾸미볶음': np.int64(91), '청국장': np.int64(92), '초밥': np.int64(93), '추어탕': np.int64(94), '치즈돈까스': np.int64(95), '치킨': np.int64(96), '치킨, 고기, 막걸리, 파전, 샐러드': np.int64(97), '칼국수': np.int64(98), '콩나물국밥육개장': np.int64(99), '크림파스타': np.int64(100), '타코야끼': np.int64(101), '투움바파스타': np.int64(102), '파스타': np.int64(103), '파전': np.int64(104), '페퍼로니피자': np.int64(105), '포케': np.int64(106), '피자': np.int64(107), '하와이안피자': np.int64(108), '항정살덮밥': np.int64(109), '해장국': np.int64(110), '햄버거': np.int64(111), '허니콤보': np.int64(112), '화채': np.int64(113), '회': np.int64(114), '회덮밥': np.int64(115)}\n"
     ]
    }
   ],
   "source": [
    "menu_mapping = dict(zip(label_encoder.classes_, label_encoder.transform(label_encoder.classes_)))\n",
    "print(\"메뉴 이름과 매핑된 정수:\")\n",
    "print(menu_mapping)"
   ]
  },
  {
   "cell_type": "code",
   "execution_count": 13,
   "metadata": {},
   "outputs": [
    {
     "data": {
      "text/plain": [
       "116"
      ]
     },
     "execution_count": 13,
     "metadata": {},
     "output_type": "execute_result"
    }
   ],
   "source": [
    "len(menu_mapping)"
   ]
  },
  {
   "cell_type": "code",
   "execution_count": 14,
   "metadata": {},
   "outputs": [],
   "source": [
    "import csv\n",
    "\n",
    "with open(\"./menu.csv\", 'w', newline='') as file:\n",
    "    writer = csv.writer(file)\n",
    "    writer.writerow(['Index', 'Menu'])\n",
    "    for menu, idx in menu_mapping.items():\n",
    "        writer.writerow([idx, menu])"
   ]
  },
  {
   "cell_type": "code",
   "execution_count": 15,
   "metadata": {},
   "outputs": [
    {
     "data": {
      "text/html": [
       "<div>\n",
       "<style scoped>\n",
       "    .dataframe tbody tr th:only-of-type {\n",
       "        vertical-align: middle;\n",
       "    }\n",
       "\n",
       "    .dataframe tbody tr th {\n",
       "        vertical-align: top;\n",
       "    }\n",
       "\n",
       "    .dataframe thead th {\n",
       "        text-align: right;\n",
       "    }\n",
       "</style>\n",
       "<table border=\"1\" class=\"dataframe\">\n",
       "  <thead>\n",
       "    <tr style=\"text-align: right;\">\n",
       "      <th></th>\n",
       "      <th>feeling</th>\n",
       "      <th>weather</th>\n",
       "      <th>temp</th>\n",
       "      <th>time</th>\n",
       "      <th>num_people</th>\n",
       "      <th>gender</th>\n",
       "      <th>menu</th>\n",
       "    </tr>\n",
       "  </thead>\n",
       "  <tbody>\n",
       "    <tr>\n",
       "      <th>0</th>\n",
       "      <td>4</td>\n",
       "      <td>3</td>\n",
       "      <td>10</td>\n",
       "      <td>2</td>\n",
       "      <td>2</td>\n",
       "      <td>0</td>\n",
       "      <td>85</td>\n",
       "    </tr>\n",
       "    <tr>\n",
       "      <th>1</th>\n",
       "      <td>8</td>\n",
       "      <td>3</td>\n",
       "      <td>10</td>\n",
       "      <td>3</td>\n",
       "      <td>4</td>\n",
       "      <td>1</td>\n",
       "      <td>36</td>\n",
       "    </tr>\n",
       "    <tr>\n",
       "      <th>2</th>\n",
       "      <td>6</td>\n",
       "      <td>3</td>\n",
       "      <td>5</td>\n",
       "      <td>3</td>\n",
       "      <td>1</td>\n",
       "      <td>1</td>\n",
       "      <td>31</td>\n",
       "    </tr>\n",
       "    <tr>\n",
       "      <th>3</th>\n",
       "      <td>3</td>\n",
       "      <td>3</td>\n",
       "      <td>3</td>\n",
       "      <td>2</td>\n",
       "      <td>2</td>\n",
       "      <td>1</td>\n",
       "      <td>21</td>\n",
       "    </tr>\n",
       "    <tr>\n",
       "      <th>4</th>\n",
       "      <td>10</td>\n",
       "      <td>3</td>\n",
       "      <td>5</td>\n",
       "      <td>3</td>\n",
       "      <td>4</td>\n",
       "      <td>1</td>\n",
       "      <td>68</td>\n",
       "    </tr>\n",
       "    <tr>\n",
       "      <th>...</th>\n",
       "      <td>...</td>\n",
       "      <td>...</td>\n",
       "      <td>...</td>\n",
       "      <td>...</td>\n",
       "      <td>...</td>\n",
       "      <td>...</td>\n",
       "      <td>...</td>\n",
       "    </tr>\n",
       "    <tr>\n",
       "      <th>238</th>\n",
       "      <td>8</td>\n",
       "      <td>3</td>\n",
       "      <td>3</td>\n",
       "      <td>2</td>\n",
       "      <td>3</td>\n",
       "      <td>1</td>\n",
       "      <td>86</td>\n",
       "    </tr>\n",
       "    <tr>\n",
       "      <th>239</th>\n",
       "      <td>6</td>\n",
       "      <td>3</td>\n",
       "      <td>7</td>\n",
       "      <td>3</td>\n",
       "      <td>1</td>\n",
       "      <td>1</td>\n",
       "      <td>96</td>\n",
       "    </tr>\n",
       "    <tr>\n",
       "      <th>240</th>\n",
       "      <td>6</td>\n",
       "      <td>3</td>\n",
       "      <td>5</td>\n",
       "      <td>2</td>\n",
       "      <td>1</td>\n",
       "      <td>1</td>\n",
       "      <td>10</td>\n",
       "    </tr>\n",
       "    <tr>\n",
       "      <th>241</th>\n",
       "      <td>2</td>\n",
       "      <td>3</td>\n",
       "      <td>4</td>\n",
       "      <td>1</td>\n",
       "      <td>5</td>\n",
       "      <td>0</td>\n",
       "      <td>32</td>\n",
       "    </tr>\n",
       "    <tr>\n",
       "      <th>242</th>\n",
       "      <td>1</td>\n",
       "      <td>3</td>\n",
       "      <td>8</td>\n",
       "      <td>0</td>\n",
       "      <td>1</td>\n",
       "      <td>1</td>\n",
       "      <td>53</td>\n",
       "    </tr>\n",
       "  </tbody>\n",
       "</table>\n",
       "<p>243 rows × 7 columns</p>\n",
       "</div>"
      ],
      "text/plain": [
       "     feeling  weather  temp  time  num_people  gender  menu\n",
       "0          4        3    10     2           2       0    85\n",
       "1          8        3    10     3           4       1    36\n",
       "2          6        3     5     3           1       1    31\n",
       "3          3        3     3     2           2       1    21\n",
       "4         10        3     5     3           4       1    68\n",
       "..       ...      ...   ...   ...         ...     ...   ...\n",
       "238        8        3     3     2           3       1    86\n",
       "239        6        3     7     3           1       1    96\n",
       "240        6        3     5     2           1       1    10\n",
       "241        2        3     4     1           5       0    32\n",
       "242        1        3     8     0           1       1    53\n",
       "\n",
       "[243 rows x 7 columns]"
      ]
     },
     "execution_count": 15,
     "metadata": {},
     "output_type": "execute_result"
    }
   ],
   "source": [
    "data"
   ]
  },
  {
   "cell_type": "code",
   "execution_count": 16,
   "metadata": {},
   "outputs": [],
   "source": [
    "breakfast_data = data[data['time'] == 0]\n",
    "lunch_data = data[data['time'] == 1]\n",
    "dinner_data = data[data['time'] == 2]\n",
    "Midnight_data = data[data['time'] == 3]"
   ]
  },
  {
   "cell_type": "code",
   "execution_count": 17,
   "metadata": {},
   "outputs": [],
   "source": [
    "d_episodes = []\n",
    "for i in range(max(len(breakfast_data), len(lunch_data), len(dinner_data), len(Midnight_data))):\n",
    "    episode = [\n",
    "        breakfast_data.iloc[i % len(breakfast_data)].tolist(),\n",
    "        lunch_data.iloc[i % len(lunch_data)].tolist(),\n",
    "        dinner_data.iloc[i % len(dinner_data)].tolist(),\n",
    "        Midnight_data.iloc[i % len(Midnight_data)].tolist()\n",
    "    ]\n",
    "    d_episodes.append(episode)"
   ]
  },
  {
   "cell_type": "code",
   "execution_count": 18,
   "metadata": {},
   "outputs": [
    {
     "data": {
      "text/plain": [
       "[[7, 3, 5, 0, 4, 0, 89],\n",
       " [6, 3, 6, 1, 1, 0, 101],\n",
       " [4, 3, 10, 2, 2, 0, 85],\n",
       " [8, 3, 10, 3, 4, 1, 36]]"
      ]
     },
     "execution_count": 18,
     "metadata": {},
     "output_type": "execute_result"
    }
   ],
   "source": [
    "d_episodes[0]"
   ]
  },
  {
   "cell_type": "code",
   "execution_count": 19,
   "metadata": {},
   "outputs": [],
   "source": [
    "class DQN(nn.Module):\n",
    "    def __init__(self, state_dim, action_dim):\n",
    "        super(DQN, self).__init__()\n",
    "        self.fc1 = nn.Linear(state_dim, 128)\n",
    "        self.fc2 = nn.Linear(128, 128)\n",
    "        self.fc3 = nn.Linear(128, action_dim)\n",
    "\n",
    "    def forward(self, x):\n",
    "        x = torch.relu(self.fc1(x))\n",
    "        x = torch.relu(self.fc2(x))\n",
    "        return self.fc3(x)"
   ]
  },
  {
   "cell_type": "code",
   "execution_count": 20,
   "metadata": {},
   "outputs": [],
   "source": [
    "class DQNAgent:\n",
    "    def __init__(self, state_dim, action_dim, replay_buffer):\n",
    "        self.state_dim = state_dim\n",
    "        self.action_dim = action_dim\n",
    "        self.replay_buffer = replay_buffer\n",
    "        self.model = DQN(state_dim, action_dim)\n",
    "        self.optimizer = optim.Adam(self.model.parameters(), lr=0.0005)\n",
    "        self.epsilon = 1.0  # 초기 탐색 확률\n",
    "        self.epsilon_decay = 0.995\n",
    "        self.epsilon_min = 0.01\n",
    "\n",
    "    def select_action(self, state):\n",
    "        if random.random() < self.epsilon:\n",
    "            action = random.randrange(len(menu_mapping))  # 무작위 행동 선택\n",
    "        else:\n",
    "            state = torch.FloatTensor(state).unsqueeze(0)\n",
    "            with torch.no_grad():\n",
    "                q_values = self.model(state)\n",
    "            action = q_values.max(1)[1].item()  # 최대 Q 값을 가진 행동 선택\n",
    "        return action\n",
    "\n",
    "    def update_model(self, batch_size):\n",
    "        if len(self.replay_buffer) < batch_size:\n",
    "            return\n",
    "        batch = self.replay_buffer.sample(batch_size)\n",
    "        states, actions, rewards, next_states, dones = zip(*batch)\n",
    "\n",
    "        states = torch.FloatTensor(states)\n",
    "        next_states = torch.FloatTensor(next_states)\n",
    "        actions = torch.LongTensor(actions)\n",
    "        rewards = torch.FloatTensor(rewards)\n",
    "        dones = torch.FloatTensor(dones)\n",
    "        current_q_values = self.model(states).gather(1, actions.unsqueeze(1)).squeeze(1)\n",
    "        max_next_q_values = self.model(next_states).max(1)[0]\n",
    "        expected_q_values = rewards + (1 - dones) * 0.99 * max_next_q_values\n",
    "\n",
    "        loss = nn.MSELoss()(current_q_values, expected_q_values.detach())\n",
    "        self.optimizer.zero_grad()\n",
    "        loss.backward()\n",
    "        self.optimizer.step()\n",
    "\n",
    "        # 탐색 확률 감소\n",
    "        if self.epsilon > self.epsilon_min:\n",
    "            self.epsilon *= self.epsilon_decay"
   ]
  },
  {
   "cell_type": "code",
   "execution_count": 21,
   "metadata": {},
   "outputs": [],
   "source": [
    "class ReplayBuffer:\n",
    "    def __init__(self, capacity):\n",
    "        self.buffer = deque(maxlen=capacity)\n",
    "\n",
    "    def push(self, state, action, reward, next_state, done):\n",
    "        self.buffer.append((state, action, reward, next_state, done))\n",
    "\n",
    "    def sample(self, batch_size):\n",
    "        my_buffer = []\n",
    "        for i in range(batch_size):\n",
    "            my_buffer.append(self.buffer[-batch_size+i])\n",
    "        return my_buffer\n",
    "\n",
    "    def __len__(self):\n",
    "        return len(self.buffer)"
   ]
  },
  {
   "cell_type": "code",
   "execution_count": 23,
   "metadata": {},
   "outputs": [],
   "source": [
    "import os\n",
    "import torch\n",
    "\n",
    "os.makedirs('./model', exist_ok=True)  # 디렉토리 생성\n",
    "dummy_model = DQN(state_dim, action_dim)\n",
    "torch.save(dummy_model.state_dict(), './model/model_90000.pth')"
   ]
  },
  {
   "cell_type": "code",
   "execution_count": 24,
   "metadata": {},
   "outputs": [
    {
     "name": "stdout",
     "output_type": "stream",
     "text": [
      "Episode 0, Total Reward: -3\n",
      "Episode 10000, Total Reward: -3\n",
      "Episode 20000, Total Reward: -1\n",
      "Episode 30000, Total Reward: -1\n",
      "Episode 40000, Total Reward: 1\n",
      "Episode 50000, Total Reward: -1\n",
      "Episode 60000, Total Reward: -1\n",
      "Episode 70000, Total Reward: 3\n",
      "Episode 80000, Total Reward: 1\n",
      "Episode 90000, Total Reward: 1\n"
     ]
    }
   ],
   "source": [
    "state_dim = 6  # 상태 차원 (예시)\n",
    "action_dim = len(menu_mapping)  # 행동 차원 (예시, 추천할 메뉴 수)\n",
    "replay_buffer = ReplayBuffer(10000)\n",
    "agent = DQNAgent(state_dim, action_dim, replay_buffer)\n",
    "batch_size = 16\n",
    "\n",
    "episodes = 100000\n",
    "reward_arr = []\n",
    "for episode in range(episodes):\n",
    "    day_data = d_episodes[episode%len(d_episodes)]\n",
    "    total_reward = 0\n",
    "\n",
    "    for i in range(len(day_data) - 1):\n",
    "        state = day_data[i][:-1]\n",
    "        next_state = day_data[i + 1][:-1]\n",
    "        target_menu = day_data[i][-1]\n",
    "\n",
    "        action = agent.select_action(state)\n",
    "        reward = 1 if action == target_menu else -1\n",
    "        done = (i == len(day_data) - 2)\n",
    "\n",
    "        agent.replay_buffer.push(state, action, reward, next_state, done)\n",
    "        # state = next_state\n",
    "        total_reward += reward\n",
    "\n",
    "    agent.update_model(batch_size)\n",
    "    reward_arr.append(total_reward)\n",
    "    if episode % 10000 == 0:\n",
    "        print(f\"Episode {episode}, Total Reward: {total_reward}\")\n",
    "        torch.save(agent.model.state_dict(), f\"./model/model_{episode}.pth\")\n",
    "    elif episode % 10000 == 0:\n",
    "        print(f\"Episode {episode}, Total Reward: {total_reward}\")"
   ]
  },
  {
   "cell_type": "code",
   "execution_count": 25,
   "metadata": {},
   "outputs": [],
   "source": [
    "a = agent.replay_buffer.sample(10)"
   ]
  },
  {
   "cell_type": "code",
   "execution_count": 26,
   "metadata": {},
   "outputs": [
    {
     "data": {
      "text/plain": [
       "[([7, 1, 7, 2, 4, 1], 96, 1, [8, 3, 6, 3, 3, 0], True),\n",
       " ([3, 3, 5, 0, 1, 0], 56, 1, [7, 3, 10, 1, 2, 0], False),\n",
       " ([7, 3, 10, 1, 2, 0], 14, 1, [7, 7, 5, 2, 4, 1], False),\n",
       " ([7, 7, 5, 2, 4, 1], 104, -1, [8, 3, 9, 3, 1, 1], True),\n",
       " ([4, 3, 6, 0, 1, 0], 70, 1, [7, 3, 7, 1, 1, 1], False),\n",
       " ([7, 3, 7, 1, 1, 1], 34, -1, [6, 5, 8, 2, 4, 0], False),\n",
       " ([6, 5, 8, 2, 4, 0], 96, -1, [7, 3, 9, 3, 4, 1], True),\n",
       " ([5, 0, 5, 0, 2, 0], 93, 1, [3, 6, 7, 1, 3, 0], False),\n",
       " ([3, 6, 7, 1, 3, 0], 8, 1, [6, 5, 8, 2, 4, 0], False),\n",
       " ([6, 5, 8, 2, 4, 0], 96, 1, [10, 3, 10, 3, 3, 0], True)]"
      ]
     },
     "execution_count": 26,
     "metadata": {},
     "output_type": "execute_result"
    }
   ],
   "source": [
    "a"
   ]
  },
  {
   "cell_type": "code",
   "execution_count": 27,
   "metadata": {},
   "outputs": [],
   "source": [
    "s,a,r,n,d = zip(*a)"
   ]
  },
  {
   "cell_type": "code",
   "execution_count": 28,
   "metadata": {},
   "outputs": [
    {
     "data": {
      "text/plain": [
       "(True, False, False, True, False, False, True, False, False, True)"
      ]
     },
     "execution_count": 28,
     "metadata": {},
     "output_type": "execute_result"
    }
   ],
   "source": [
    "d"
   ]
  },
  {
   "cell_type": "code",
   "execution_count": 29,
   "metadata": {},
   "outputs": [
    {
     "data": {
      "text/plain": [
       "[([6, 5, 8, 2, 4, 0], 96, 1, [10, 3, 10, 3, 3, 0], True)]"
      ]
     },
     "execution_count": 29,
     "metadata": {},
     "output_type": "execute_result"
    }
   ],
   "source": [
    "agent.replay_buffer.sample(1)"
   ]
  },
  {
   "cell_type": "code",
   "execution_count": 30,
   "metadata": {},
   "outputs": [
    {
     "data": {
      "text/plain": [
       "[<matplotlib.lines.Line2D at 0x19868169580>]"
      ]
     },
     "execution_count": 30,
     "metadata": {},
     "output_type": "execute_result"
    },
    {
     "data": {
      "image/png": "[encoded data removed]",
      "text/plain": [
       "<Figure size 640x480 with 1 Axes>"
      ]
     },
     "metadata": {},
     "output_type": "display_data"
    }
   ],
   "source": [
    "plt.plot(reward_arr)"
   ]
  },
  {
   "cell_type": "code",
   "execution_count": 31,
   "metadata": {},
   "outputs": [
    {
     "data": {
      "text/plain": [
       "np.float64(-2.956)"
      ]
     },
     "execution_count": 31,
     "metadata": {},
     "output_type": "execute_result"
    }
   ],
   "source": [
    "np.mean(reward_arr[500:1000])"
   ]
  },
  {
   "cell_type": "code",
   "execution_count": 32,
   "metadata": {},
   "outputs": [
    {
     "data": {
      "text/plain": [
       "[<matplotlib.lines.Line2D at 0x198681a0710>]"
      ]
     },
     "execution_count": 32,
     "metadata": {},
     "output_type": "execute_result"
    },
    {
     "data": {
      "image/png": "[encoded data removed]",
      "text/plain": [
       "<Figure size 640x480 with 1 Axes>"
      ]
     },
     "metadata": {},
     "output_type": "display_data"
    }
   ],
   "source": [
    "plt.ylim(-3, 3)\n",
    "plt.plot(reward_arr[500:1000])"
   ]
  },
  {
   "cell_type": "code",
   "execution_count": 33,
   "metadata": {},
   "outputs": [
    {
     "data": {
      "text/plain": [
       "np.float64(-0.228)"
      ]
     },
     "execution_count": 33,
     "metadata": {},
     "output_type": "execute_result"
    }
   ],
   "source": [
    "np.mean(reward_arr[19500:20000])"
   ]
  },
  {
   "cell_type": "code",
   "execution_count": 34,
   "metadata": {},
   "outputs": [
    {
     "data": {
      "text/plain": [
       "[<matplotlib.lines.Line2D at 0x1986e79af60>]"
      ]
     },
     "execution_count": 34,
     "metadata": {},
     "output_type": "execute_result"
    },
    {
     "data": {
      "image/png": "[encoded data removed]",
      "text/plain": [
       "<Figure size 640x480 with 1 Axes>"
      ]
     },
     "metadata": {},
     "output_type": "display_data"
    }
   ],
   "source": [
    "plt.ylim(-3, 3)\n",
    "plt.plot(reward_arr[19500:20000])"
   ]
  },
  {
   "cell_type": "code",
   "execution_count": 35,
   "metadata": {},
   "outputs": [
    {
     "data": {
      "text/plain": [
       "np.float64(0.384)"
      ]
     },
     "execution_count": 35,
     "metadata": {},
     "output_type": "execute_result"
    }
   ],
   "source": [
    "np.mean(reward_arr[49500:50000])"
   ]
  },
  {
   "cell_type": "code",
   "execution_count": 36,
   "metadata": {},
   "outputs": [
    {
     "data": {
      "text/plain": [
       "[<matplotlib.lines.Line2D at 0x1986e81f3b0>]"
      ]
     },
     "execution_count": 36,
     "metadata": {},
     "output_type": "execute_result"
    },
    {
     "data": {
      "image/png": "[encoded data removed]",
      "text/plain": [
       "<Figure size 640x480 with 1 Axes>"
      ]
     },
     "metadata": {},
     "output_type": "display_data"
    }
   ],
   "source": [
    "plt.ylim(-3, 3)\n",
    "plt.plot(reward_arr[49500:50000])"
   ]
  },
  {
   "cell_type": "code",
   "execution_count": 37,
   "metadata": {},
   "outputs": [
    {
     "data": {
      "text/plain": [
       "np.float64(1.056)"
      ]
     },
     "execution_count": 37,
     "metadata": {},
     "output_type": "execute_result"
    }
   ],
   "source": [
    "np.mean(reward_arr[99500:100000])"
   ]
  },
  {
   "cell_type": "code",
   "execution_count": 38,
   "metadata": {},
   "outputs": [
    {
     "data": {
      "text/plain": [
       "[<matplotlib.lines.Line2D at 0x1986e84b0e0>]"
      ]
     },
     "execution_count": 38,
     "metadata": {},
     "output_type": "execute_result"
    },
    {
     "data": {
      "image/png": "[encoded data removed]",
      "text/plain": [
       "<Figure size 640x480 with 1 Axes>"
      ]
     },
     "metadata": {},
     "output_type": "display_data"
    }
   ],
   "source": [
    "plt.ylim(-3, 3)\n",
    "plt.plot(reward_arr[99500:100000])"
   ]
  },
  {
   "cell_type": "code",
   "execution_count": null,
   "metadata": {},
   "outputs": [],
   "source": []
  }
 ],
 "metadata": {
  "kernelspec": {
   "display_name": "Python 3",
   "language": "python",
   "name": "python3"
  },
  "language_info": {
   "codemirror_mode": {
    "name": "ipython",
    "version": 3
   },
   "file_extension": ".py",
   "mimetype": "text/x-python",
   "name": "python",
   "nbconvert_exporter": "python",
   "pygments_lexer": "ipython3",
   "version": "3.12.4"
  }
 },
 "nbformat": 4,
 "nbformat_minor": 2
}
